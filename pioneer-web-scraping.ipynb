{
 "cells": [
  {
   "cell_type": "code",
   "execution_count": null,
   "metadata": {
    "collapsed": true
   },
   "outputs": [],
   "source": [
    "import numpy as np\n",
    "from bs4 import BeautifulSoup\n",
    "from urllib2 import urlopen\n",
    "import pandas as pd"
   ]
  },
  {
   "cell_type": "markdown",
   "metadata": {},
   "source": [
    "## Mormon Pioneer Overland Travel Database"
   ]
  },
  {
   "cell_type": "markdown",
   "metadata": {},
   "source": [
    "pseudocode\n",
    "\n",
    "- go to company list\n",
    "- scrape all companies\n",
    "- for each company:\n",
    "    - record info (unique id, # of pioneers, departure date, arrival date)\n",
    "    - go to company page\n",
    "    - record more info (type, category, direction, captain)\n",
    "    - then go to roster tab\n",
    "    - scrape each person\n",
    "    - for each person:\n",
    "        - record info (name, age, birthdate, deathdate)\n",
    "        - go to person page\n",
    "        - scrape FamilySearch ID (if it's there)\n",
    "        - scrape gender"
   ]
  },
  {
   "cell_type": "markdown",
   "metadata": {},
   "source": [
    "### Example: Company List"
   ]
  },
  {
   "cell_type": "code",
   "execution_count": null,
   "metadata": {
    "collapsed": true
   },
   "outputs": [],
   "source": [
    "baseurl = 'https://history.lds.org'"
   ]
  },
  {
   "cell_type": "code",
   "execution_count": null,
   "metadata": {
    "collapsed": false
   },
   "outputs": [],
   "source": [
    "page = urlopen('https://history.lds.org/overlandtravel/companies')\n",
    "soup = BeautifulSoup(page)"
   ]
  },
  {
   "cell_type": "code",
   "execution_count": null,
   "metadata": {
    "collapsed": false
   },
   "outputs": [],
   "source": [
    "for row in soup.tbody.contents[1::2]:\n",
    "    print row.a.text.strip()\n",
    "    href = row.a.get('href')\n",
    "    print href.split('/')[-2]\n",
    "    print href\n",
    "    print row.find(class_='sort-by-number-of-pioneers').get('data-value')\n",
    "    print row.find(class_='sort-by-departure-date').get('data-value')\n",
    "    print row.find(class_='sort-by-arrival-date').get('data-value') \n",
    "    print"
   ]
  },
  {
   "cell_type": "code",
   "execution_count": null,
   "metadata": {
    "collapsed": true
   },
   "outputs": [],
   "source": []
  },
  {
   "cell_type": "markdown",
   "metadata": {},
   "source": [
    "### Example: Company page"
   ]
  },
  {
   "cell_type": "code",
   "execution_count": null,
   "metadata": {
    "collapsed": false
   },
   "outputs": [],
   "source": [
    "page = urlopen(baseurl + '/overlandtravel/companies/402/horace-m-alexander-company')\n",
    "soup = BeautifulSoup(page)"
   ]
  },
  {
   "cell_type": "code",
   "execution_count": null,
   "metadata": {
    "collapsed": false,
    "scrolled": true
   },
   "outputs": [],
   "source": [
    "for e in soup.find(class_='sidebar-block').find_all('dl'):\n",
    "    if e.dt.text == 'Type':\n",
    "        print 'Type:', e.dd.text\n",
    "    elif e.dt.text == 'Category':\n",
    "        print 'Category:', e.dd.text\n",
    "    elif e.dt.text == 'Direction':\n",
    "        print 'Direction:', e.dd.text\n",
    "    elif e.dt.text == 'Captain':\n",
    "        print 'Captain:', e.dd.text"
   ]
  },
  {
   "cell_type": "code",
   "execution_count": null,
   "metadata": {
    "collapsed": false
   },
   "outputs": [],
   "source": [
    "for e in soup.find(id='roster').tbody.contents[1::2]:\n",
    "    print e.prettify()\n",
    "    print 'Name:', e.find(class_='sort-by-name').text.strip()\n",
    "    print 'Age:', e.find(class_='sort-by-age').text.strip()\n",
    "    print 'Birthdate:', e.find(class_='sort-by-birthdate').get('data-value')\n",
    "    print 'Deathdate:', e.find(class_='sort-by-deathdate').get('data-value')\n",
    "    print e.a.get('href')\n",
    "    print"
   ]
  },
  {
   "cell_type": "markdown",
   "metadata": {},
   "source": [
    "### Example: Person page with FamilySearch ID"
   ]
  },
  {
   "cell_type": "code",
   "execution_count": null,
   "metadata": {
    "collapsed": true
   },
   "outputs": [],
   "source": [
    "page = urlopen(baseurl + '/overlandtravel/pioneers/42724/horace-martin-alexander')\n",
    "page = urlopen('https://history.lds.org/overlandtravel/pioneers/42735/newman-bulkley')\n",
    "soup = BeautifulSoup(page)"
   ]
  },
  {
   "cell_type": "code",
   "execution_count": null,
   "metadata": {
    "collapsed": false
   },
   "outputs": [],
   "source": [
    "print soup.find(class_='database-icon--container').a.get('href') \n",
    "print 'Gender:', soup.find(text='Gender').parent.parent.dd.text"
   ]
  },
  {
   "cell_type": "markdown",
   "metadata": {},
   "source": [
    "### Example: Person page without FamilySearch ID"
   ]
  },
  {
   "cell_type": "code",
   "execution_count": null,
   "metadata": {
    "collapsed": false
   },
   "outputs": [],
   "source": [
    "page = urlopen('https://history.lds.org/overlandtravel/pioneers/25436/brother-hamer')\n",
    "soup = BeautifulSoup(page)"
   ]
  },
  {
   "cell_type": "code",
   "execution_count": null,
   "metadata": {
    "collapsed": false
   },
   "outputs": [],
   "source": [
    "print soup.find(title='Find this person in FamilySearch')\n",
    "print 'Gender:', soup.find(text='Gender').parent.parent.dd.text"
   ]
  },
  {
   "cell_type": "markdown",
   "metadata": {},
   "source": [
    "### Example: Person Page with multiple links"
   ]
  },
  {
   "cell_type": "code",
   "execution_count": null,
   "metadata": {
    "collapsed": true
   },
   "outputs": [],
   "source": [
    "page = urlopen('https://history.lds.org/overlandtravel/pioneers/16046/thomas-colborn')\n",
    "soup = BeautifulSoup(page)"
   ]
  },
  {
   "cell_type": "code",
   "execution_count": null,
   "metadata": {
    "collapsed": false
   },
   "outputs": [],
   "source": [
    "print soup.find(title='Find this person in FamilySearch').parent.get('href')"
   ]
  },
  {
   "cell_type": "markdown",
   "metadata": {
    "collapsed": true
   },
   "source": [
    "# Let's get scraping"
   ]
  },
  {
   "cell_type": "code",
   "execution_count": null,
   "metadata": {
    "collapsed": true
   },
   "outputs": [],
   "source": [
    "baseurl = 'https://history.lds.org'"
   ]
  },
  {
   "cell_type": "code",
   "execution_count": null,
   "metadata": {
    "collapsed": false
   },
   "outputs": [],
   "source": []
  },
  {
   "cell_type": "code",
   "execution_count": null,
   "metadata": {
    "collapsed": false
   },
   "outputs": [],
   "source": [
    "total_ppl = 0\n",
    "\n",
    "page = urlopen(baseurl + '/overlandtravel/companies')\n",
    "soup = BeautifulSoup(page)\n",
    "for row in soup.tbody.contents[1::2]:\n",
    "    group_size = row.find(class_='sort-by-number-of-pioneers').get('data-value')\n",
    "    if group_size:\n",
    "        total_ppl += int(group_size)\n",
    "    \n",
    "print total_ppl"
   ]
  },
  {
   "cell_type": "code",
   "execution_count": null,
   "metadata": {
    "collapsed": false
   },
   "outputs": [],
   "source": [
    "page = urlopen(baseurl + '/overlandtravel/companies')\n",
    "soup = BeautifulSoup(page)\n",
    "\n",
    "company_data = []\n",
    "people_data = []\n",
    "ppl = 0\n",
    "\n",
    "for row in soup.tbody.contents[1::2]:\n",
    "    c_name = row.a.text.strip()\n",
    "    c_href = row.a.get('href')\n",
    "    c_id = c_href.split('/')[-2]\n",
    "    group_size = row.find(class_='sort-by-number-of-pioneers').get('data-value')\n",
    "    departure_date = row.find(class_='sort-by-departure-date').get('data-value')\n",
    "    arrival_date = row.find(class_='sort-by-arrival-date').get('data-value') \n",
    "    \n",
    "    company_soup = BeautifulSoup(urlopen(baseurl + c_href))\n",
    "    print 'scraping', c_name\n",
    "    for e in company_soup.find(class_='sidebar-block').find_all('dl'):\n",
    "        if e.dt.text == 'Type':\n",
    "            c_type = e.dd.text\n",
    "        elif e.dt.text == 'Category':\n",
    "            c_category = e.dd.text\n",
    "        elif e.dt.text == 'Direction':\n",
    "            c_direction = e.dd.text\n",
    "        elif e.dt.text == 'Captain':\n",
    "            c_captain = e.dd.text\n",
    "    \n",
    "    c_row = [c_name, group_size, departure_date, arrival_date,\n",
    "             c_type, c_category, c_direction, c_captain, c_id]\n",
    "    \n",
    "    company_data.append(c_row)\n",
    "    \n",
    "    # iterate through people\n",
    "    for e in company_soup.find(id='roster').tbody.contents[1::2]:\n",
    "        ppl += 1\n",
    "        p_name = e.find(class_='sort-by-name').text.strip()\n",
    "        p_age = e.find(class_='sort-by-age').text.strip()\n",
    "        p_birthdate = e.find(class_='sort-by-birthdate').get('data-value')\n",
    "        p_deathdate = e.find(class_='sort-by-deathdate').get('data-value')\n",
    "        p_href = e.a.get('href')\n",
    "        \n",
    "        # follow p_href and scrape gender, familysearch ID\n",
    "        while True:\n",
    "            try:\n",
    "                person_soup = BeautifulSoup(urlopen(baseurl+p_href))\n",
    "                break\n",
    "            except:\n",
    "                print 'trying', p_name, 'again'\n",
    "        print '\\t', 100*ppl/total_ppl, '%', 'scraping', p_name, ':', \n",
    "        \n",
    "        fs = person_soup.find(title='Find this person in FamilySearch')\n",
    "        p_fs_href = fs.parent.get('href') if fs else ''\n",
    "        \n",
    "        p_gender = person_soup.find(text='Gender').parent.parent.dd.text\n",
    "        \n",
    "        \n",
    "        p_row = [p_name, p_age, p_birthdate, p_deathdate, p_gender, p_fs_href, c_id]\n",
    "        people_data.append(p_row)\n",
    "        #print p_row\n",
    "    \n",
    "    "
   ]
  },
  {
   "cell_type": "code",
   "execution_count": null,
   "metadata": {
    "collapsed": false,
    "scrolled": true
   },
   "outputs": [],
   "source": [
    "pd.DataFrame(people_data)"
   ]
  },
  {
   "cell_type": "code",
   "execution_count": null,
   "metadata": {
    "collapsed": false
   },
   "outputs": [],
   "source": [
    "baseurl+p_href"
   ]
  },
  {
   "cell_type": "code",
   "execution_count": null,
   "metadata": {
    "collapsed": false
   },
   "outputs": [],
   "source": [
    "pd.DataFrame(company_data)"
   ]
  },
  {
   "cell_type": "code",
   "execution_count": null,
   "metadata": {
    "collapsed": true
   },
   "outputs": [],
   "source": []
  }
 ],
 "metadata": {
  "kernelspec": {
   "display_name": "Python [conda root]",
   "language": "python",
   "name": "conda-root-py"
  },
  "language_info": {
   "codemirror_mode": {
    "name": "ipython",
    "version": 2
   },
   "file_extension": ".py",
   "mimetype": "text/x-python",
   "name": "python",
   "nbconvert_exporter": "python",
   "pygments_lexer": "ipython2",
   "version": "2.7.13"
  }
 },
 "nbformat": 4,
 "nbformat_minor": 2
}
